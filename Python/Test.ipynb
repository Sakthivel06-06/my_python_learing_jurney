{
 "cells": [
  {
   "cell_type": "code",
   "execution_count": 3,
   "id": "1263f208-39ba-44c7-a764-1c018f4d5cf2",
   "metadata": {},
   "outputs": [
    {
     "name": "stdout",
     "output_type": "stream",
     "text": [
      "-4\n",
      "-2\n",
      "True\n"
     ]
    }
   ],
   "source": [
    "\n",
    "a = -4\n",
    "\n",
    "b = -2\n",
    "c = a<b\n",
    "print(a)\n",
    "print(b)\n",
    "print(c)"
   ]
  },
  {
   "cell_type": "code",
   "execution_count": 3,
   "id": "9675311d-1cc7-4ebe-8f07-ac78525d32d4",
   "metadata": {},
   "outputs": [
    {
     "name": "stdout",
     "output_type": "stream",
     "text": [
      "2\n"
     ]
    },
    {
     "data": {
      "text/plain": [
       "140712326019576"
      ]
     },
     "execution_count": 3,
     "metadata": {},
     "output_type": "execute_result"
    }
   ],
   "source": [
    "_a = 2\n",
    "print(_a)\n",
    "x = 3\n",
    "id(x)"
   ]
  },
  {
   "cell_type": "code",
   "execution_count": 9,
   "id": "8e0e4d06-a6e2-4d58-a8d9-22e4b25b4c38",
   "metadata": {},
   "outputs": [
    {
     "name": "stdout",
     "output_type": "stream",
     "text": [
      "140712326019576\n",
      "140712326019640\n"
     ]
    }
   ],
   "source": [
    "x = 3\n",
    "print(id(x))\n",
    "x = 5\n",
    "print(id(x))"
   ]
  },
  {
   "cell_type": "code",
   "execution_count": 17,
   "id": "00afed32-2273-440b-a867-58ea4c81f8eb",
   "metadata": {},
   "outputs": [
    {
     "data": {
      "text/plain": [
       "'This is multilined\\nstring\\n'"
      ]
     },
     "execution_count": 17,
     "metadata": {},
     "output_type": "execute_result"
    }
   ],
   "source": [
    "'''This is multilined\n",
    "string\n",
    "'''"
   ]
  },
  {
   "cell_type": "code",
   "execution_count": 19,
   "id": "44e37093-1d10-45c2-b240-28ecf47f5805",
   "metadata": {},
   "outputs": [
    {
     "name": "stdout",
     "output_type": "stream",
     "text": [
      "This is multilined\n",
      "string\n",
      "\n"
     ]
    }
   ],
   "source": [
    "print('This is multilined\\nstring\\n')"
   ]
  },
  {
   "cell_type": "code",
   "execution_count": 1,
   "id": "54992bdd-2164-4818-865d-85595835c651",
   "metadata": {},
   "outputs": [],
   "source": [
    "# Control folw statements"
   ]
  },
  {
   "cell_type": "code",
   "execution_count": 14,
   "id": "c628d4d7-31b1-4df9-8cf3-171242a010d9",
   "metadata": {},
   "outputs": [
    {
     "name": "stdin",
     "output_type": "stream",
     "text": [
      " 11\n"
     ]
    },
    {
     "name": "stdout",
     "output_type": "stream",
     "text": [
      "You are not eligibel to drive\n",
      "Wait till you are 18\n"
     ]
    }
   ],
   "source": [
    "# If conditions and nested ifs\n",
    "age = int(input())\n",
    "\n",
    "if age > 18:\n",
    "    if age >= 70:\n",
    "        print(\"You cannot drive\")\n",
    "        print(\"You can hire a driver\")\n",
    "    else:\n",
    "        print(\"You are eligibel to drive\")\n",
    "        print(\"Drive slowly\")\n",
    "else:\n",
    "    print(\"You are not eligibel to drive\")\n",
    "    print(\"Wait till you are 18\")"
   ]
  },
  {
   "cell_type": "code",
   "execution_count": 34,
   "id": "7e6d048f-eabc-4d17-a0b1-c1241b95133c",
   "metadata": {},
   "outputs": [
    {
     "name": "stdin",
     "output_type": "stream",
     "text": [
      " r\n"
     ]
    },
    {
     "name": "stdout",
     "output_type": "stream",
     "text": [
      "It is not your name\n"
     ]
    }
   ],
   "source": [
    "name = input()\n",
    "\n",
    "if name [0] == 'S' or name [0] == 's':\n",
    "    print(\"It may be your name\")\n",
    "elif name [0] == 'P' or name[0] == 'p':\n",
    "        print(\"It is your intial\")\n",
    "else:\n",
    "    print(\"It is not your name\")"
   ]
  },
  {
   "cell_type": "code",
   "execution_count": 40,
   "id": "513033ed-b93c-4e7e-85bb-9d60a2cdd79d",
   "metadata": {},
   "outputs": [
    {
     "name": "stdin",
     "output_type": "stream",
     "text": [
      " sa\n"
     ]
    },
    {
     "name": "stdout",
     "output_type": "stream",
     "text": [
      "There is higher possibility of your name\n"
     ]
    }
   ],
   "source": [
    "name = input()\n",
    "\n",
    "if name [0] == 'S' or name [0] == 's':\n",
    "    if name[1].lower() == 'a':\n",
    "        print(\"There is higher possibility of your name\")\n",
    "    else:\n",
    "        print(\"It may be your name\")\n",
    "elif name [0] == 'P' or name[0] == 'p':\n",
    "        print(\"It is your intial\")\n",
    "else:\n",
    "    print(\"It is not your name\")"
   ]
  },
  {
   "cell_type": "code",
   "execution_count": 15,
   "id": "3d9776ae-024b-4c84-885f-a8939567e608",
   "metadata": {},
   "outputs": [],
   "source": [
    "del print"
   ]
  },
  {
   "cell_type": "code",
   "execution_count": 17,
   "id": "01a38f38-71d2-412a-a25a-ca389a1942b2",
   "metadata": {},
   "outputs": [
    {
     "name": "stdin",
     "output_type": "stream",
     "text": [
      " Sakthivel\n"
     ]
    },
    {
     "name": "stdout",
     "output_type": "stream",
     "text": [
      "[83, 97, 107, 116, 104, 105, 118, 101, 108]\n",
      "118\n",
      "v\n"
     ]
    }
   ],
   "source": [
    "# Highest value\n",
    "name = input()\n",
    "name  = [ord(i) for i in name]\n",
    "print(name)\n",
    "highest_value = name[0]\n",
    "for i in name:\n",
    "    if i > highest_value:\n",
    "        highest_value = i\n",
    "print(highest_value)\n",
    "print(chr(highest_value))"
   ]
  },
  {
   "cell_type": "code",
   "execution_count": 19,
   "id": "8c143f1e-6ab2-484c-8a4d-451d14ac8837",
   "metadata": {},
   "outputs": [
    {
     "name": "stdout",
     "output_type": "stream",
     "text": [
      "I am learning Python\n",
      "I am learning Python\n",
      "I am learning Python\n",
      "I am learning Python\n",
      "I am learning Python\n"
     ]
    }
   ],
   "source": [
    "# Loops in Python\n",
    "# While loop\n",
    "i = 1\n",
    "while i <= 5:\n",
    "    print(\"I am learning Python\")\n",
    "    i += 1\n",
    "    "
   ]
  },
  {
   "cell_type": "code",
   "execution_count": 25,
   "id": "54c0a449-c4e3-49d6-827b-ab8b994be716",
   "metadata": {},
   "outputs": [
    {
     "name": "stdout",
     "output_type": "stream",
     "text": [
      "0 1 2 3 4 5 6 7 8 9 10 "
     ]
    }
   ],
   "source": [
    "# Print 1 to 10 using loop\n",
    "i = 0\n",
    "while i <= 10:\n",
    "    print(i,end = \" \")\n",
    "    i += 1"
   ]
  },
  {
   "cell_type": "code",
   "execution_count": 29,
   "id": "5f3b17ba-f943-4603-b384-f7b8e6034537",
   "metadata": {},
   "outputs": [
    {
     "name": "stdin",
     "output_type": "stream",
     "text": [
      " 12\n"
     ]
    },
    {
     "name": "stdout",
     "output_type": "stream",
     "text": [
      "1 2 3 4 5 6 7 8 9 10 11 12 "
     ]
    }
   ],
   "source": [
    "# Print numbers from 1 to N\n",
    "n = int(input())\n",
    "i = 1\n",
    "while i<=n:\n",
    "    print(i, end = \" \")\n",
    "    i += 1"
   ]
  },
  {
   "cell_type": "code",
   "execution_count": 31,
   "id": "e593d81d-3e5d-4dc9-adae-a0a93a5bd9d0",
   "metadata": {},
   "outputs": [
    {
     "name": "stdin",
     "output_type": "stream",
     "text": [
      " 12\n"
     ]
    },
    {
     "name": "stdout",
     "output_type": "stream",
     "text": [
      "12 11 10 9 8 7 6 5 4 3 2 1 "
     ]
    }
   ],
   "source": [
    "# Print numbers from N to 1 (reverse order)\n",
    "n = int(input())\n",
    "i = n\n",
    "while i >= 1:\n",
    "    print(i, end=\" \")\n",
    "    i -= 1"
   ]
  },
  {
   "cell_type": "code",
   "execution_count": 33,
   "id": "59dc5391-8bc0-42f7-8f33-cc0a4138d1ad",
   "metadata": {},
   "outputs": [
    {
     "name": "stdin",
     "output_type": "stream",
     "text": [
      " 15\n"
     ]
    },
    {
     "name": "stdout",
     "output_type": "stream",
     "text": [
      "2 4 6 8 10 12 14 "
     ]
    }
   ],
   "source": [
    "# Print even numbers from 1 to N\n",
    "n = int(input())\n",
    "i = 2\n",
    "while i <= n:\n",
    "    print(i,end=\" \")\n",
    "    i += 2"
   ]
  },
  {
   "cell_type": "code",
   "execution_count": 37,
   "id": "fc1efd2f-4232-482d-a8a3-03c79ba7e4d1",
   "metadata": {},
   "outputs": [
    {
     "name": "stdin",
     "output_type": "stream",
     "text": [
      " 5\n"
     ]
    },
    {
     "name": "stdout",
     "output_type": "stream",
     "text": [
      "15\n"
     ]
    }
   ],
   "source": [
    "# Sum of numbers from 1 to N\n",
    "n = int(input())\n",
    "i = 1\n",
    "total = 0\n",
    "while i <= n:\n",
    "    total += i\n",
    "    i += 1\n",
    "print(total)"
   ]
  },
  {
   "cell_type": "code",
   "execution_count": 47,
   "id": "f245708e-5dc0-49db-9717-8aa0aac186bd",
   "metadata": {},
   "outputs": [
    {
     "name": "stdin",
     "output_type": "stream",
     "text": [
      " 12\n"
     ]
    },
    {
     "name": "stdout",
     "output_type": "stream",
     "text": [
      "2\n"
     ]
    }
   ],
   "source": [
    "# Count digits in a number\n",
    "n = int(input())\n",
    "count = 0\n",
    "while n>0:\n",
    "    n = n // 10 # This integer division removes the last number of the given digits and every time it removes a digit we add 1 to the count\n",
    "    count+=1\n",
    "print(count)"
   ]
  },
  {
   "cell_type": "code",
   "execution_count": 9,
   "id": "69fe2ab6-3245-4d6e-8806-7018fdf76a54",
   "metadata": {},
   "outputs": [
    {
     "name": "stdout",
     "output_type": "stream",
     "text": [
      "5\n"
     ]
    }
   ],
   "source": [
    "num=2025\n",
    "last_digit = num%10\n",
    "print(last_digit)"
   ]
  },
  {
   "cell_type": "code",
   "execution_count": 11,
   "id": "f8022690-088d-41cb-97d6-9e973441c133",
   "metadata": {},
   "outputs": [
    {
     "name": "stdout",
     "output_type": "stream",
     "text": [
      "202\n"
     ]
    }
   ],
   "source": [
    "num=2025\n",
    "last_digit = num //10\n",
    "print(last_digit)"
   ]
  },
  {
   "cell_type": "code",
   "execution_count": 13,
   "id": "7428f11c-1733-4aa9-a730-09e171c686fe",
   "metadata": {},
   "outputs": [
    {
     "name": "stdin",
     "output_type": "stream",
     "text": [
      " 1999\n"
     ]
    },
    {
     "name": "stdout",
     "output_type": "stream",
     "text": [
      "Reversed number : 9991\n"
     ]
    }
   ],
   "source": [
    "# Reverse a number\n",
    "num = int(input())\n",
    "rev = 0\n",
    "while num > 0:\n",
    "    digit = num % 10 # This gives us the last digit of given numbers\n",
    "    rev = rev * 10 + digit # This reverses the number\n",
    "    num = num // 10\n",
    "print(\"Reversed number :\",rev)"
   ]
  },
  {
   "cell_type": "code",
   "execution_count": 17,
   "id": "ac1ccbf4-3c6a-430f-ba32-c6ac0b43b19c",
   "metadata": {},
   "outputs": [
    {
     "name": "stdin",
     "output_type": "stream",
     "text": [
      " 1234\n"
     ]
    },
    {
     "name": "stdout",
     "output_type": "stream",
     "text": [
      "Not a palindrome\n"
     ]
    }
   ],
   "source": [
    "# Check if a number is palindrome\n",
    "num = int(input())\n",
    "original = num\n",
    "rev = 0\n",
    "while num > 0:\n",
    "    digit = num % 10 # This gives us the last digit of given numbers\n",
    "    rev = rev * 10 + digit # This reverses the number\n",
    "    num = num // 10\n",
    "if original == rev:\n",
    "    print(\"Given number is palindrome\")\n",
    "else:\n",
    "    print(\"Not a palindrome\")"
   ]
  },
  {
   "cell_type": "code",
   "execution_count": 35,
   "id": "aaffccb0-ee8d-4ce6-9e31-9368f05ca58f",
   "metadata": {},
   "outputs": [
    {
     "name": "stdin",
     "output_type": "stream",
     "text": [
      " 5\n"
     ]
    },
    {
     "name": "stdout",
     "output_type": "stream",
     "text": [
      "5x1=5\n",
      "5x2=10\n",
      "5x3=15\n",
      "5x4=20\n",
      "5x5=25\n",
      "5x6=30\n",
      "5x7=35\n",
      "5x8=40\n",
      "5x9=45\n",
      "5x10=50\n"
     ]
    }
   ],
   "source": [
    "# multiplication using for loop\n",
    "n = int(input())\n",
    "for i in range(1,11):\n",
    "    print(f\"{n}x{i}={i*n}\")\n",
    "    "
   ]
  },
  {
   "cell_type": "code",
   "execution_count": 37,
   "id": "c540dd45-6448-41a5-8a69-f7a74a653ea6",
   "metadata": {},
   "outputs": [
    {
     "name": "stdin",
     "output_type": "stream",
     "text": [
      " 10\n"
     ]
    },
    {
     "name": "stdout",
     "output_type": "stream",
     "text": [
      "1\n",
      "2\n",
      "3\n",
      "4\n",
      "5\n",
      "6\n",
      "7\n",
      "8\n",
      "9\n",
      "10\n"
     ]
    }
   ],
   "source": [
    "# Print numbers from 1 to N\n",
    "n = int(input())\n",
    "for i in range(1,n+1):\n",
    "    print(i)"
   ]
  },
  {
   "cell_type": "code",
   "execution_count": 49,
   "id": "33b8f86a-722e-45fa-832a-6349dca4f21f",
   "metadata": {},
   "outputs": [
    {
     "name": "stdin",
     "output_type": "stream",
     "text": [
      " 10\n"
     ]
    },
    {
     "name": "stdout",
     "output_type": "stream",
     "text": [
      "2\n",
      "4\n",
      "6\n",
      "8\n",
      "10\n"
     ]
    }
   ],
   "source": [
    "# Print even numbers between 1 and N\n",
    "n = int(input())\n",
    "for i in range(1,n+1):\n",
    "    if i % 2 == 0:\n",
    "        print(i)"
   ]
  },
  {
   "cell_type": "code",
   "execution_count": 61,
   "id": "b290dfe9-abf6-4267-9f34-f2f8a441a91c",
   "metadata": {},
   "outputs": [
    {
     "name": "stdin",
     "output_type": "stream",
     "text": [
      " 5\n"
     ]
    },
    {
     "name": "stdout",
     "output_type": "stream",
     "text": [
      "15\n",
      "15\n",
      "15\n",
      "15\n",
      "15\n"
     ]
    }
   ],
   "source": [
    "# Print the sum of first N numbers\n",
    "n = int(input())\n",
    "for i in range(1,n+1):\n",
    "    print(sum(range(1,n+1)))"
   ]
  },
  {
   "cell_type": "code",
   "execution_count": 65,
   "id": "a67ecaa1-fa03-43a9-918f-a6ab039e5a0d",
   "metadata": {},
   "outputs": [
    {
     "name": "stdin",
     "output_type": "stream",
     "text": [
      " 5\n"
     ]
    },
    {
     "name": "stdout",
     "output_type": "stream",
     "text": [
      "1x5=5\n",
      "2x5=10\n",
      "3x5=15\n",
      "4x5=20\n",
      "5x5=25\n",
      "6x5=30\n",
      "7x5=35\n",
      "8x5=40\n",
      "9x5=45\n",
      "10x5=50\n"
     ]
    }
   ],
   "source": [
    "# Print multiplication table of a number (1 to 10)\n",
    "n = int(input())\n",
    "for i in range(1,11):\n",
    "    print(f\"{i}x{n}={i*n}\")"
   ]
  },
  {
   "cell_type": "code",
   "execution_count": 73,
   "id": "b44ff036-0819-4ac2-85d0-66d49c4b79c8",
   "metadata": {},
   "outputs": [
    {
     "name": "stdin",
     "output_type": "stream",
     "text": [
      " 4\n"
     ]
    },
    {
     "name": "stdout",
     "output_type": "stream",
     "text": [
      "1\n",
      "2\n",
      "6\n",
      "24\n"
     ]
    }
   ],
   "source": [
    "# Print the factorial of a number using for loop\n",
    "n = int(input())\n",
    "fact = 1\n",
    "for i in range(1,n+1):\n",
    "    fact *= i\n",
    "    print(fact)"
   ]
  },
  {
   "cell_type": "code",
   "execution_count": null,
   "id": "f9c9ada7-d510-489a-8d6c-16462f4675ff",
   "metadata": {},
   "outputs": [],
   "source": [
    "# Reverse a string using a for loop (without slicing)\n",
    "a = input()\n",
    "rev = \"\"\n",
    "for i in a:\n",
    "    rev = i + rev\n",
    "print(rev)"
   ]
  },
  {
   "cell_type": "code",
   "execution_count": 113,
   "id": "8b4b7a7f-14bb-405e-8004-b610144c0e54",
   "metadata": {},
   "outputs": [
    {
     "name": "stdin",
     "output_type": "stream",
     "text": [
      " sakthivel\n"
     ]
    },
    {
     "name": "stdout",
     "output_type": "stream",
     "text": [
      "a i e \n",
      "Vowels count: 3\n"
     ]
    }
   ],
   "source": [
    "# Count vowels in a string\n",
    "a = input()\n",
    "count = 0\n",
    "vowels = [\"a\",\"e\",\"i\",\"o\",\"u\"]\n",
    "for i in a.lower():\n",
    "    if i in vowels:\n",
    "        count += 1\n",
    "        print(i,end=\" \")\n",
    "        \n",
    "print(\"\\nVowels count:\",count)"
   ]
  },
  {
   "cell_type": "code",
   "execution_count": null,
   "id": "b8bbfd51-e7a2-49bd-9865-9af37e83abd2",
   "metadata": {},
   "outputs": [],
   "source": [
    "# Print square of each number from 1 to N\n",
    "n = int(input())\n",
    "for i in range(1,n+1):\n",
    "    print(i**2)"
   ]
  },
  {
   "cell_type": "code",
   "execution_count": 123,
   "id": "f7c5e438-8f77-4c0b-879a-070adc3aeb23",
   "metadata": {},
   "outputs": [
    {
     "name": "stdin",
     "output_type": "stream",
     "text": [
      " 4\n"
     ]
    },
    {
     "name": "stdout",
     "output_type": "stream",
     "text": [
      "* \n",
      "* * \n",
      "* * * \n",
      "* * * * \n"
     ]
    }
   ],
   "source": [
    "# ✴️ Print this pattern:\n",
    "n = int(input())\n",
    "for i in range(1,n+1):\n",
    "    for j in range(i):\n",
    "        print(\"*\",end=\" \")\n",
    "    print()"
   ]
  },
  {
   "cell_type": "code",
   "execution_count": 135,
   "id": "a0e0005a-325f-4ed7-86b9-a67dfb8a9cb0",
   "metadata": {},
   "outputs": [
    {
     "name": "stdin",
     "output_type": "stream",
     "text": [
      " 5\n"
     ]
    },
    {
     "name": "stdout",
     "output_type": "stream",
     "text": [
      "A Prime\n"
     ]
    }
   ],
   "source": [
    "# Check if a number is prime using for loop\n",
    "n = int(input())\n",
    "if n<=1:     # \n",
    "    print(\"Not Prime\")\n",
    "else:\n",
    "    is_prime = True\n",
    "    \n",
    "    for i in range(2,n):\n",
    "        if n%i == 0:\n",
    "            is_pirme = False\n",
    "            break\n",
    "    if is_prime:\n",
    "        print(\"A Prime\")\n",
    "    else:\n",
    "        print(\"Not Prime\")"
   ]
  },
  {
   "cell_type": "code",
   "execution_count": 11,
   "id": "d792f476-6469-4857-89c2-ab41b15084fb",
   "metadata": {},
   "outputs": [
    {
     "name": "stdin",
     "output_type": "stream",
     "text": [
      " 5\n"
     ]
    },
    {
     "name": "stdout",
     "output_type": "stream",
     "text": [
      "5 4 3 2 1 \n",
      "4 3 2 1 \n",
      "3 2 1 \n",
      "2 1 \n",
      "1 \n"
     ]
    }
   ],
   "source": [
    "# Reverse Number Triangle Pattern\n",
    "n = int(input())\n",
    "for i in range(n,0,-1):\n",
    "    for j in range(i,0,-1):\n",
    "        print(j,end=\" \")\n",
    "    print()"
   ]
  },
  {
   "cell_type": "code",
   "execution_count": 17,
   "id": "7b44f6e0-e16f-43ab-8089-dbb78700b29b",
   "metadata": {},
   "outputs": [
    {
     "name": "stdin",
     "output_type": "stream",
     "text": [
      " cat\n"
     ]
    },
    {
     "name": "stdout",
     "output_type": "stream",
     "text": [
      "c=99\n",
      "a=97\n",
      "t=116\n"
     ]
    }
   ],
   "source": [
    "# Print Characters and Their ASCII Values\n",
    "a = input()\n",
    "for i in a:\n",
    "    print(f\"{i}={ord(i)}\")"
   ]
  },
  {
   "cell_type": "code",
   "execution_count": null,
   "id": "46610e08-8de6-4051-9e32-724668da273b",
   "metadata": {},
   "outputs": [],
   "source": [
    "# Function"
   ]
  },
  {
   "cell_type": "code",
   "execution_count": 5,
   "id": "adc5a792-39cc-439c-8dd3-b7b5ed847980",
   "metadata": {},
   "outputs": [],
   "source": [
    "def sum(a,b): # Here (a,b) is parameters\n",
    "    c= a+b\n",
    "    print(c)"
   ]
  },
  {
   "cell_type": "code",
   "execution_count": 11,
   "id": "060f2ceb-07a8-422b-aef7-f27104f93c88",
   "metadata": {},
   "outputs": [
    {
     "name": "stdout",
     "output_type": "stream",
     "text": [
      "3\n"
     ]
    }
   ],
   "source": [
    "a = sum(1,2) # Here (1,2) are called arguments"
   ]
  },
  {
   "cell_type": "code",
   "execution_count": 13,
   "id": "6f91001b-ebc2-419f-9c04-b56d3c43d047",
   "metadata": {},
   "outputs": [
    {
     "name": "stdout",
     "output_type": "stream",
     "text": [
      "<class 'NoneType'>\n"
     ]
    }
   ],
   "source": [
    "print(type(a))"
   ]
  },
  {
   "cell_type": "code",
   "execution_count": 17,
   "id": "c8c763b4-9a1c-422e-b1e8-d9fcbf284a0e",
   "metadata": {},
   "outputs": [],
   "source": [
    "def sum(a,b): # Here (a,b) is parameters\n",
    "    c= a+b\n",
    "    return c"
   ]
  },
  {
   "cell_type": "code",
   "execution_count": 7,
   "id": "f75a2c73-6453-4333-9a24-89fa89467883",
   "metadata": {},
   "outputs": [],
   "source": [
    "# Return VS print\n",
    "def egg(a,b):\n",
    "    c = a + b\n",
    "    print(c)"
   ]
  },
  {
   "cell_type": "code",
   "execution_count": 19,
   "id": "34fcbfa4-f226-491f-ab2b-feb184ce8070",
   "metadata": {},
   "outputs": [
    {
     "name": "stdout",
     "output_type": "stream",
     "text": [
      "3 <class 'int'>\n"
     ]
    }
   ],
   "source": [
    "b = sum(1,2)\n",
    "print(b,type(b))"
   ]
  },
  {
   "cell_type": "code",
   "execution_count": 19,
   "id": "d20bb639-cbb9-4cb3-ae29-b61015d93394",
   "metadata": {},
   "outputs": [
    {
     "name": "stdout",
     "output_type": "stream",
     "text": [
      "7\n",
      "None\n",
      "<class 'NoneType'>\n",
      "7\n"
     ]
    },
    {
     "data": {
      "text/plain": [
       "NoneType"
      ]
     },
     "execution_count": 19,
     "metadata": {},
     "output_type": "execute_result"
    }
   ],
   "source": [
    "x = egg(3,4)\n",
    "print(x)\n",
    "print(type(x))\n",
    "type(print(7))"
   ]
  },
  {
   "cell_type": "code",
   "execution_count": 25,
   "id": "48b1ae80-4173-4fc7-acec-cd79e3309bdf",
   "metadata": {},
   "outputs": [],
   "source": [
    "#Return Statement\n",
    "def result():\n",
    "    print(\"Before return statement\")\n",
    "    return \"Sakthivel\"   # It stops program here and returns the value to the function\n",
    "    print(\"After return statement\")"
   ]
  },
  {
   "cell_type": "code",
   "execution_count": 26,
   "id": "015b38d8-db85-492b-9ab7-54fa8cdf1cbe",
   "metadata": {},
   "outputs": [
    {
     "name": "stdout",
     "output_type": "stream",
     "text": [
      "Before return statement\n"
     ]
    },
    {
     "data": {
      "text/plain": [
       "'Sakthivel'"
      ]
     },
     "execution_count": 26,
     "metadata": {},
     "output_type": "execute_result"
    }
   ],
   "source": [
    "result()"
   ]
  },
  {
   "cell_type": "code",
   "execution_count": 35,
   "id": "17dc8288-fb1b-4131-8ae2-47cc2e45dcb5",
   "metadata": {},
   "outputs": [
    {
     "name": "stdout",
     "output_type": "stream",
     "text": [
      "Before return statement\n"
     ]
    }
   ],
   "source": [
    "a = result()\n",
    "#print(a)"
   ]
  },
  {
   "cell_type": "code",
   "execution_count": 31,
   "id": "68124996-58b4-458b-91e9-9eec6de280ef",
   "metadata": {},
   "outputs": [
    {
     "data": {
      "text/plain": [
       "'Sakthivel'"
      ]
     },
     "execution_count": 31,
     "metadata": {},
     "output_type": "execute_result"
    }
   ],
   "source": [
    "a"
   ]
  },
  {
   "cell_type": "code",
   "execution_count": 3,
   "id": "d160e7f1-7ffe-4d40-8466-6ad4fc6b09f4",
   "metadata": {},
   "outputs": [],
   "source": [
    "def intro(name,age,place):\n",
    "    return name,age,place"
   ]
  },
  {
   "cell_type": "code",
   "execution_count": 5,
   "id": "597ea54b-542c-4b9c-b295-db79e56ba250",
   "metadata": {},
   "outputs": [],
   "source": [
    "a,b,c =intro(\"Sakthivel\",26,\"Bangalore\")"
   ]
  },
  {
   "cell_type": "code",
   "execution_count": 9,
   "id": "59502b52-040a-49b8-b8e7-28fba88671fb",
   "metadata": {},
   "outputs": [
    {
     "name": "stdout",
     "output_type": "stream",
     "text": [
      "Sakthivel 26 Bangalore\n"
     ]
    }
   ],
   "source": [
    "print(a,b,c)"
   ]
  },
  {
   "cell_type": "code",
   "execution_count": 15,
   "id": "3e09ce6a-4293-47c4-87e3-1d100bbe4c14",
   "metadata": {},
   "outputs": [],
   "source": [
    "d = intro(\"Sakthivel\",26,\"Bangalore\")"
   ]
  },
  {
   "cell_type": "code",
   "execution_count": 17,
   "id": "e2ff22a4-c819-4126-bf53-8c6793d584a1",
   "metadata": {},
   "outputs": [
    {
     "name": "stdout",
     "output_type": "stream",
     "text": [
      "('Sakthivel', 26, 'Bangalore')\n"
     ]
    }
   ],
   "source": [
    "print(d)"
   ]
  },
  {
   "cell_type": "code",
   "execution_count": 7,
   "id": "83bc8670-611c-4a4c-bb40-40ae64bf7a75",
   "metadata": {},
   "outputs": [
    {
     "data": {
      "text/plain": [
       "('Sakthivel', 26, 'Bangalore')"
      ]
     },
     "execution_count": 7,
     "metadata": {},
     "output_type": "execute_result"
    }
   ],
   "source": [
    "intro(\"Sakthivel\",26,\"Bangalore\")"
   ]
  },
  {
   "cell_type": "code",
   "execution_count": 37,
   "id": "387ad770-29bf-46ab-bac4-b01b6da98106",
   "metadata": {},
   "outputs": [
    {
     "name": "stdout",
     "output_type": "stream",
     "text": [
      "This is local variable\n",
      "This is global variable\n",
      "This is global variable\n"
     ]
    },
    {
     "ename": "NameError",
     "evalue": "name 'local_var' is not defined",
     "output_type": "error",
     "traceback": [
      "\u001b[1;31m---------------------------------------------------------------------------\u001b[0m",
      "\u001b[1;31mNameError\u001b[0m                                 Traceback (most recent call last)",
      "Cell \u001b[1;32mIn[37], line 10\u001b[0m\n\u001b[0;32m      8\u001b[0m run_now()\n\u001b[0;32m      9\u001b[0m \u001b[38;5;28mprint\u001b[39m(global_var)\n\u001b[1;32m---> 10\u001b[0m \u001b[38;5;28mprint\u001b[39m(local_var)\n",
      "\u001b[1;31mNameError\u001b[0m: name 'local_var' is not defined"
     ]
    }
   ],
   "source": [
    "# Variables\n",
    "global_var = \"This is global variable\"\n",
    "def run_now():\n",
    "    local_var = \"This is local variable\"\n",
    "    print(local_var)\n",
    "    print(global_var)\n",
    "\n",
    "run_now()\n",
    "print(global_var)\n",
    "print(local_var)"
   ]
  },
  {
   "cell_type": "code",
   "execution_count": 21,
   "id": "035dbd98-c137-4bc0-8639-439335efacb5",
   "metadata": {},
   "outputs": [],
   "source": [
    "a = 5\n",
    "def func():\n",
    "    b= 4\n",
    "    print(b)\n"
   ]
  },
  {
   "cell_type": "code",
   "execution_count": 23,
   "id": "dd58ff83-3bd6-40b2-a35d-339871a9bc5b",
   "metadata": {},
   "outputs": [
    {
     "name": "stdout",
     "output_type": "stream",
     "text": [
      "5\n",
      "4\n"
     ]
    }
   ],
   "source": [
    "print(a)\n",
    "func()"
   ]
  },
  {
   "cell_type": "code",
   "execution_count": 27,
   "id": "9dc51b31-75c9-46ef-8b4c-956579b1f035",
   "metadata": {},
   "outputs": [],
   "source": [
    "a = 5\n",
    "def func():\n",
    "    global a\n",
    "    a = 4\n",
    "    print(a)"
   ]
  },
  {
   "cell_type": "code",
   "execution_count": 29,
   "id": "10381f4b-a15c-4d0e-b1b1-1cd831eb47ad",
   "metadata": {},
   "outputs": [
    {
     "name": "stdout",
     "output_type": "stream",
     "text": [
      "5\n",
      "4\n",
      "4\n"
     ]
    }
   ],
   "source": [
    "print(a) # Here it prints global variable a = 5\n",
    "func() # After printing value, the function func() will be deleted after it changes the value of a\n",
    "print(a)  # Since we mentioned that global a its value will be changed to 4"
   ]
  },
  {
   "cell_type": "code",
   "execution_count": null,
   "id": "b4deecf8-6ef6-4e79-bed2-eaff249db7e5",
   "metadata": {},
   "outputs": [],
   "source": []
  },
  {
   "cell_type": "code",
   "execution_count": 31,
   "id": "9c029cf6-405c-4007-91bc-cc45a8de5364",
   "metadata": {},
   "outputs": [],
   "source": [
    "# Lambda Functions\n",
    "def add(a,b):\n",
    "    return a+b"
   ]
  },
  {
   "cell_type": "code",
   "execution_count": 33,
   "id": "cdfde8f4-8245-4455-a64a-62811ac2c361",
   "metadata": {},
   "outputs": [
    {
     "data": {
      "text/plain": [
       "10"
      ]
     },
     "execution_count": 33,
     "metadata": {},
     "output_type": "execute_result"
    }
   ],
   "source": [
    "add(4,6)"
   ]
  },
  {
   "cell_type": "code",
   "execution_count": 37,
   "id": "71eb9398-72b0-460e-855a-7ad592bf5cc0",
   "metadata": {},
   "outputs": [
    {
     "data": {
      "text/plain": [
       "10"
      ]
     },
     "execution_count": 37,
     "metadata": {},
     "output_type": "execute_result"
    }
   ],
   "source": [
    "(lambda a,b : a+b)(6,4)"
   ]
  },
  {
   "cell_type": "code",
   "execution_count": 65,
   "id": "6efb4982-deb6-4c06-b2e3-91b4dbb10dd2",
   "metadata": {},
   "outputs": [],
   "source": [
    "func = lambda a,b : a+b"
   ]
  },
  {
   "cell_type": "code",
   "execution_count": 67,
   "id": "73298d40-8ec1-4f9a-bd58-d2195c71cd06",
   "metadata": {},
   "outputs": [
    {
     "data": {
      "text/plain": [
       "3"
      ]
     },
     "execution_count": 67,
     "metadata": {},
     "output_type": "execute_result"
    }
   ],
   "source": [
    "func(1,2)"
   ]
  },
  {
   "cell_type": "code",
   "execution_count": 1,
   "id": "111f866f-13b6-477f-9262-a9fc34114a56",
   "metadata": {},
   "outputs": [],
   "source": [
    "def greater(a,b):\n",
    "    if a > b:\n",
    "        return a\n",
    "    else:\n",
    "        return b"
   ]
  },
  {
   "cell_type": "code",
   "execution_count": 3,
   "id": "64033bfd-d67c-461b-8506-60b349025224",
   "metadata": {},
   "outputs": [
    {
     "data": {
      "text/plain": [
       "8"
      ]
     },
     "execution_count": 3,
     "metadata": {},
     "output_type": "execute_result"
    }
   ],
   "source": [
    "greater(5,8)"
   ]
  },
  {
   "cell_type": "code",
   "execution_count": 5,
   "id": "83e575de-8f54-4a90-b583-46107051c5c4",
   "metadata": {},
   "outputs": [
    {
     "data": {
      "text/plain": [
       "12"
      ]
     },
     "execution_count": 5,
     "metadata": {},
     "output_type": "execute_result"
    }
   ],
   "source": [
    "(lambda a,b : a if a>b else b)(8,12)"
   ]
  },
  {
   "cell_type": "code",
   "execution_count": 11,
   "id": "7dc2c926-20b8-4115-819f-68cb06cd1fde",
   "metadata": {},
   "outputs": [],
   "source": [
    "larger = lambda a,b : a if a>b else b"
   ]
  },
  {
   "cell_type": "code",
   "execution_count": 13,
   "id": "b237b7a8-b44c-45bf-a0f8-10836573e382",
   "metadata": {},
   "outputs": [
    {
     "data": {
      "text/plain": [
       "23"
      ]
     },
     "execution_count": 13,
     "metadata": {},
     "output_type": "execute_result"
    }
   ],
   "source": [
    "larger(12,23)"
   ]
  },
  {
   "cell_type": "code",
   "execution_count": 27,
   "id": "ec2023e2-8729-471c-8f56-044178d29682",
   "metadata": {},
   "outputs": [],
   "source": [
    "lst = [(12,22),(3,41),(19,5)]"
   ]
  },
  {
   "cell_type": "code",
   "execution_count": 29,
   "id": "85af4588-3cfb-4997-aa26-1394d78e07fe",
   "metadata": {},
   "outputs": [],
   "source": [
    "lst.sort() # Sorted according to the first element of the tuple [0]"
   ]
  },
  {
   "cell_type": "code",
   "execution_count": 31,
   "id": "32065618-20ce-49ba-b88d-d078735980fb",
   "metadata": {},
   "outputs": [
    {
     "data": {
      "text/plain": [
       "[(3, 41), (12, 22), (19, 5)]"
      ]
     },
     "execution_count": 31,
     "metadata": {},
     "output_type": "execute_result"
    }
   ],
   "source": [
    "lst"
   ]
  },
  {
   "cell_type": "code",
   "execution_count": 21,
   "id": "d5b81cac-0f02-441d-a6ca-ab4e87941710",
   "metadata": {},
   "outputs": [],
   "source": [
    "# To sort according to second element[1]\n",
    "def k(x): \n",
    "    return x[1]"
   ]
  },
  {
   "cell_type": "code",
   "execution_count": 23,
   "id": "cdc8029a-67a9-4d38-b431-2a8371b7dd91",
   "metadata": {},
   "outputs": [],
   "source": [
    "lst.sort(key = k)"
   ]
  },
  {
   "cell_type": "code",
   "execution_count": 25,
   "id": "18287e51-223f-4eb2-ac35-7a77e83d6513",
   "metadata": {},
   "outputs": [
    {
     "data": {
      "text/plain": [
       "[(19, 5), (12, 22), (3, 41)]"
      ]
     },
     "execution_count": 25,
     "metadata": {},
     "output_type": "execute_result"
    }
   ],
   "source": [
    "lst"
   ]
  },
  {
   "cell_type": "code",
   "execution_count": 33,
   "id": "a38322e6-4b0f-4058-81c5-e350d8ef415a",
   "metadata": {},
   "outputs": [
    {
     "data": {
      "text/plain": [
       "[(3, 41), (12, 22), (19, 5)]"
      ]
     },
     "execution_count": 33,
     "metadata": {},
     "output_type": "execute_result"
    }
   ],
   "source": [
    "# To sort according to second element[1] using lambda function\n",
    "lst"
   ]
  },
  {
   "cell_type": "code",
   "execution_count": 35,
   "id": "a93979ce-fe88-45b1-a6ba-ec3eb87ee75d",
   "metadata": {},
   "outputs": [],
   "source": [
    "lst.sort(key = lambda x : x[1]) "
   ]
  },
  {
   "cell_type": "code",
   "execution_count": 37,
   "id": "82f66afc-8190-4759-a7a9-4844a872b7c0",
   "metadata": {},
   "outputs": [
    {
     "data": {
      "text/plain": [
       "[(19, 5), (12, 22), (3, 41)]"
      ]
     },
     "execution_count": 37,
     "metadata": {},
     "output_type": "execute_result"
    }
   ],
   "source": [
    "lst"
   ]
  },
  {
   "cell_type": "code",
   "execution_count": 31,
   "id": "aaa49bf2-756b-440c-b5d9-318a4759dd38",
   "metadata": {},
   "outputs": [],
   "source": [
    "# Print even function\n",
    "def even(li):\n",
    "    for a in li:\n",
    "        if a%2 != 0:\n",
    "            print(a)"
   ]
  },
  {
   "cell_type": "code",
   "execution_count": 27,
   "id": "d460c742-8f3f-4f8d-95d1-a1e59619a215",
   "metadata": {},
   "outputs": [],
   "source": [
    "lis = [1,2,3,4,5,6,7,8,9]"
   ]
  },
  {
   "cell_type": "code",
   "execution_count": 33,
   "id": "174374cc-7bc7-48c7-a433-6ee079ef124d",
   "metadata": {},
   "outputs": [
    {
     "name": "stdout",
     "output_type": "stream",
     "text": [
      "1\n",
      "3\n",
      "5\n",
      "7\n",
      "9\n"
     ]
    }
   ],
   "source": [
    "even(lis)"
   ]
  },
  {
   "cell_type": "code",
   "execution_count": 71,
   "id": "e502d3e8-ba3a-4a87-8b78-035952a9c99a",
   "metadata": {},
   "outputs": [],
   "source": [
    "# Return list with unique numbers\n",
    "lst = [1,2,4,3,2,1,5]\n",
    "def uni(lst):\n",
    "    new = []\n",
    "    for i in lst:\n",
    "        if i not in new:\n",
    "            new.append(i)\n",
    "    return new\n",
    "    "
   ]
  },
  {
   "cell_type": "code",
   "execution_count": 85,
   "id": "8ad85fc6-dbba-41e3-b668-c988e10b53db",
   "metadata": {},
   "outputs": [
    {
     "data": {
      "text/plain": [
       "[1, 2, 4, 3, 5]"
      ]
     },
     "execution_count": 85,
     "metadata": {},
     "output_type": "execute_result"
    }
   ],
   "source": [
    "uni(lst)"
   ]
  },
  {
   "cell_type": "code",
   "execution_count": 83,
   "id": "4dc0b49a-9157-4016-8d33-7114d5f7c540",
   "metadata": {},
   "outputs": [
    {
     "name": "stdout",
     "output_type": "stream",
     "text": [
      "[1, 2, 3, 4, 5]\n"
     ]
    }
   ],
   "source": [
    "a = uni(lst)\n",
    "a.sort()\n",
    "print(a)"
   ]
  },
  {
   "cell_type": "code",
   "execution_count": 89,
   "id": "4ea142df-8985-442c-b00b-fba835847afd",
   "metadata": {},
   "outputs": [
    {
     "name": "stdout",
     "output_type": "stream",
     "text": [
      "[1, 2, 3, 4, 5]\n"
     ]
    }
   ],
   "source": [
    "b = sorted(uni(lst))\n",
    "print(b)"
   ]
  },
  {
   "cell_type": "code",
   "execution_count": 102,
   "id": "5539da6d-98d3-4c98-98b3-78015f2542cf",
   "metadata": {},
   "outputs": [],
   "source": [
    "# Positional arguments\n",
    "def into(a,b):\n",
    "    print(a)\n",
    "    print(b)"
   ]
  },
  {
   "cell_type": "code",
   "execution_count": 104,
   "id": "6920dab5-971b-4a85-b130-7f92eddbc38d",
   "metadata": {},
   "outputs": [
    {
     "name": "stdout",
     "output_type": "stream",
     "text": [
      "5\n",
      "9\n"
     ]
    }
   ],
   "source": [
    "into(5,9)"
   ]
  },
  {
   "cell_type": "code",
   "execution_count": 106,
   "id": "f3f8d542-bb92-4ea0-82c0-48cac18632ba",
   "metadata": {},
   "outputs": [],
   "source": [
    "# Default arguments\n",
    "def into(a,b=0):\n",
    "    print(a)\n",
    "    print(b)"
   ]
  },
  {
   "cell_type": "code",
   "execution_count": 108,
   "id": "2a556099-9ed1-4a32-a6e0-9604647aa96f",
   "metadata": {},
   "outputs": [
    {
     "name": "stdout",
     "output_type": "stream",
     "text": [
      "8\n",
      "0\n"
     ]
    }
   ],
   "source": [
    "into(8)"
   ]
  },
  {
   "cell_type": "code",
   "execution_count": 112,
   "id": "f2b0c2b0-402d-47d2-a597-e672268cacfb",
   "metadata": {},
   "outputs": [],
   "source": [
    "def intro(name=\"Sakthivel\",age=26):\n",
    "    print(name)\n",
    "    print(age)"
   ]
  },
  {
   "cell_type": "code",
   "execution_count": 114,
   "id": "6fc32487-4f56-4fd2-af1b-8e496241ae6c",
   "metadata": {},
   "outputs": [
    {
     "name": "stdout",
     "output_type": "stream",
     "text": [
      "Sakthivel\n",
      "26\n"
     ]
    }
   ],
   "source": [
    "intro()"
   ]
  },
  {
   "cell_type": "code",
   "execution_count": 118,
   "id": "c973c20f-fa52-40d4-a3f2-b20d3f899785",
   "metadata": {},
   "outputs": [
    {
     "ename": "SyntaxError",
     "evalue": "parameter without a default follows parameter with a default (483606190.py, line 2)",
     "output_type": "error",
     "traceback": [
      "\u001b[1;36m  Cell \u001b[1;32mIn[118], line 2\u001b[1;36m\u001b[0m\n\u001b[1;33m    def intro(name=\"Sakthivel\",age=26, a):\u001b[0m\n\u001b[1;37m                                       ^\u001b[0m\n\u001b[1;31mSyntaxError\u001b[0m\u001b[1;31m:\u001b[0m parameter without a default follows parameter with a default\n"
     ]
    }
   ],
   "source": [
    "# Default argument cannot follwed by non-default argument\n",
    "def intro(name=\"Sakthivel\",age=26, a):\n",
    "    print(name)\n",
    "    print(age)"
   ]
  },
  {
   "cell_type": "code",
   "execution_count": 120,
   "id": "e3cf1f6c-340b-4f08-b217-eaf18d08c250",
   "metadata": {},
   "outputs": [],
   "source": [
    "a = 5\n",
    "b = 4\n",
    "c = 3\n",
    "d = a + b"
   ]
  },
  {
   "cell_type": "code",
   "execution_count": 122,
   "id": "4c489a6f-24e2-493d-8704-ac25054da3e1",
   "metadata": {},
   "outputs": [
    {
     "name": "stdout",
     "output_type": "stream",
     "text": [
      "9\n"
     ]
    }
   ],
   "source": [
    "print(d)"
   ]
  },
  {
   "cell_type": "code",
   "execution_count": 126,
   "id": "490d04db-c061-4f61-a3db-4beba4b7e249",
   "metadata": {},
   "outputs": [
    {
     "data": {
      "text/plain": [
       "10"
      ]
     },
     "execution_count": 126,
     "metadata": {},
     "output_type": "execute_result"
    }
   ],
   "source": [
    "d + 1"
   ]
  },
  {
   "cell_type": "code",
   "execution_count": 128,
   "id": "7c70ae41-25ad-4b95-b53e-b1d71816b035",
   "metadata": {},
   "outputs": [
    {
     "ename": "TypeError",
     "evalue": "can only concatenate str (not \"int\") to str",
     "output_type": "error",
     "traceback": [
      "\u001b[1;31m---------------------------------------------------------------------------\u001b[0m",
      "\u001b[1;31mTypeError\u001b[0m                                 Traceback (most recent call last)",
      "Cell \u001b[1;32mIn[128], line 1\u001b[0m\n\u001b[1;32m----> 1\u001b[0m _ \u001b[38;5;241m+\u001b[39m c\n",
      "\u001b[1;31mTypeError\u001b[0m: can only concatenate str (not \"int\") to str"
     ]
    }
   ],
   "source": [
    "_ + c"
   ]
  },
  {
   "cell_type": "code",
   "execution_count": 1,
   "id": "b4c983d9-33f9-4e8e-be8f-94aa1f71c9d8",
   "metadata": {},
   "outputs": [
    {
     "data": {
      "text/plain": [
       "10"
      ]
     },
     "execution_count": 1,
     "metadata": {},
     "output_type": "execute_result"
    }
   ],
   "source": [
    "9+1"
   ]
  },
  {
   "cell_type": "code",
   "execution_count": 6,
   "id": "68ae4066-c446-4794-8e92-4fa07a929322",
   "metadata": {},
   "outputs": [
    {
     "ename": "TypeError",
     "evalue": "can only concatenate str (not \"int\") to str",
     "output_type": "error",
     "traceback": [
      "\u001b[1;31m---------------------------------------------------------------------------\u001b[0m",
      "\u001b[1;31mTypeError\u001b[0m                                 Traceback (most recent call last)",
      "Cell \u001b[1;32mIn[6], line 1\u001b[0m\n\u001b[1;32m----> 1\u001b[0m _\u001b[38;5;241m+\u001b[39m\u001b[38;5;241m5\u001b[39m\n",
      "\u001b[1;31mTypeError\u001b[0m: can only concatenate str (not \"int\") to str"
     ]
    }
   ],
   "source": [
    "_+5"
   ]
  },
  {
   "cell_type": "code",
   "execution_count": 8,
   "id": "0db7045c-237a-433e-ac09-41f2efd5f8f6",
   "metadata": {},
   "outputs": [
    {
     "name": "stdout",
     "output_type": "stream",
     "text": [
      "{\"dataframes\": [], \"user\": \"HP\"}\n"
     ]
    }
   ],
   "source": [
    "print(_)"
   ]
  },
  {
   "cell_type": "code",
   "execution_count": null,
   "id": "c1ec0427-31c5-481a-8a08-a883b9786ce7",
   "metadata": {},
   "outputs": [],
   "source": []
  },
  {
   "cell_type": "code",
   "execution_count": null,
   "id": "f13e7959-df69-473e-80f5-9739067db161",
   "metadata": {},
   "outputs": [],
   "source": []
  }
 ],
 "metadata": {
  "kernelspec": {
   "display_name": "Python 3 (ipykernel)",
   "language": "python",
   "name": "python3"
  },
  "language_info": {
   "codemirror_mode": {
    "name": "ipython",
    "version": 3
   },
   "file_extension": ".py",
   "mimetype": "text/x-python",
   "name": "python",
   "nbconvert_exporter": "python",
   "pygments_lexer": "ipython3",
   "version": "3.12.4"
  }
 },
 "nbformat": 4,
 "nbformat_minor": 5
}
